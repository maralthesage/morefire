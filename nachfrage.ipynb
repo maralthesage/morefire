{
 "cells": [
  {
   "cell_type": "code",
   "execution_count": 1,
   "id": "ec879e6a",
   "metadata": {},
   "outputs": [
    {
     "name": "stderr",
     "output_type": "stream",
     "text": [
      "Setting default log level to \"WARN\".\n",
      "To adjust logging level use sc.setLogLevel(newLevel). For SparkR, use setLogLevel(newLevel).\n",
      "25/04/10 10:59:31 WARN NativeCodeLoader: Unable to load native-hadoop library for your platform... using builtin-java classes where applicable\n"
     ]
    }
   ],
   "source": [
    "import pandas as pd\n",
    "from pyspark.sql import SparkSession\n",
    "from pyspark.sql.functions import sum,lit,when,format_number,row_number,col,filter\n",
    "from pyspark.sql.types import StringType\n",
    "from pyspark.sql.window import Window\n",
    "\n",
    "from openpyxl import load_workbook\n",
    "from openpyxl.styles import PatternFill, Font, Alignment\n",
    "from openpyxl.worksheet.table import Table, TableStyleInfo\n",
    "\n",
    "spark = SparkSession.builder \\\n",
    "    .appName(\"CSV Loader\") \\\n",
    "    .config(\"spark.executor.memory\", \"32g\") \\\n",
    "    .config(\"spark.driver.memory\", \"32g\") \\\n",
    "    .config(\"spark.executor.memoryOverhead\", \"8192\") \\\n",
    "    .config(\"spark.driver.memoryOverhead\", \"8192\") \\\n",
    "    .config(\"spark.executor.cores\", \"7\") \\\n",
    "    .config(\"spark.driver.cores\", \"7\") \\\n",
    "    .config(\"spark.executor.instances\", \"2\") \\\n",
    "    .getOrCreate()\n"
   ]
  },
  {
   "cell_type": "code",
   "execution_count": 22,
   "id": "f18620a8",
   "metadata": {},
   "outputs": [
    {
     "name": "stderr",
     "output_type": "stream",
     "text": [
      "                                                                                \r"
     ]
    },
    {
     "data": {
      "text/plain": [
       "['ADR_NR',\n",
       " 'AUFTRAG_NR',\n",
       " 'DATUM',\n",
       " 'MEDIACODE',\n",
       " 'HERKUNFT',\n",
       " 'ABWICKLUNG',\n",
       " 'RECH_ART',\n",
       " 'PROJEKT',\n",
       " 'ART_NR',\n",
       " 'GROESSE',\n",
       " 'FARBE',\n",
       " 'MENGE',\n",
       " 'PREIS',\n",
       " 'MWST',\n",
       " 'MWST_KZ',\n",
       " 'INDI_KZ',\n",
       " 'RETOUREGRD',\n",
       " 'RETOUREART',\n",
       " 'EK',\n",
       " 'WARENGR',\n",
       " 'KOPF_STAT',\n",
       " 'POS_STAT',\n",
       " 'LISTNR',\n",
       " 'RABATT',\n",
       " 'ERFASSER',\n",
       " 'MANDNR',\n",
       " 'ZAEHL',\n",
       " 'ZAHLART']"
      ]
     },
     "execution_count": 22,
     "metadata": {},
     "output_type": "execute_result"
    }
   ],
   "source": [
    "user = spark.read.csv('/Users/maralsheikhzadeh/Documents/Codes/V2SC1010.csv',sep=';', encoding='cp850',header=True)\n",
    "user.columns"
   ]
  },
  {
   "cell_type": "code",
   "execution_count": 23,
   "id": "24c78678",
   "metadata": {},
   "outputs": [],
   "source": [
    "from pyspark.sql.functions import to_date, col, lit\n",
    "\n",
    "# Convert DATUM column to date format\n",
    "user = user.withColumn(\"DATUM\", to_date(col(\"DATUM\"), \"yyyy-MM-dd\"))\n",
    "\n",
    "# Now you can safely filter\n",
    "filtered_df = user.filter(col(\"DATUM\") > lit(\"2025-04-01\"))\n"
   ]
  },
  {
   "cell_type": "code",
   "execution_count": 24,
   "id": "3be89182",
   "metadata": {},
   "outputs": [
    {
     "name": "stderr",
     "output_type": "stream",
     "text": [
      "                                                                                \r"
     ]
    }
   ],
   "source": [
    "new_df = filtered_df.toPandas()"
   ]
  },
  {
   "cell_type": "code",
   "execution_count": 25,
   "id": "243be997",
   "metadata": {},
   "outputs": [
    {
     "data": {
      "text/html": [
       "<div>\n",
       "<style scoped>\n",
       "    .dataframe tbody tr th:only-of-type {\n",
       "        vertical-align: middle;\n",
       "    }\n",
       "\n",
       "    .dataframe tbody tr th {\n",
       "        vertical-align: top;\n",
       "    }\n",
       "\n",
       "    .dataframe thead th {\n",
       "        text-align: right;\n",
       "    }\n",
       "</style>\n",
       "<table border=\"1\" class=\"dataframe\">\n",
       "  <thead>\n",
       "    <tr style=\"text-align: right;\">\n",
       "      <th></th>\n",
       "      <th>ADR_NR</th>\n",
       "      <th>AUFTRAG_NR</th>\n",
       "      <th>DATUM</th>\n",
       "      <th>MEDIACODE</th>\n",
       "      <th>HERKUNFT</th>\n",
       "      <th>ABWICKLUNG</th>\n",
       "      <th>RECH_ART</th>\n",
       "      <th>PROJEKT</th>\n",
       "      <th>ART_NR</th>\n",
       "      <th>GROESSE</th>\n",
       "      <th>...</th>\n",
       "      <th>EK</th>\n",
       "      <th>WARENGR</th>\n",
       "      <th>KOPF_STAT</th>\n",
       "      <th>POS_STAT</th>\n",
       "      <th>LISTNR</th>\n",
       "      <th>RABATT</th>\n",
       "      <th>ERFASSER</th>\n",
       "      <th>MANDNR</th>\n",
       "      <th>ZAEHL</th>\n",
       "      <th>ZAHLART</th>\n",
       "    </tr>\n",
       "  </thead>\n",
       "  <tbody>\n",
       "  </tbody>\n",
       "</table>\n",
       "<p>0 rows × 28 columns</p>\n",
       "</div>"
      ],
      "text/plain": [
       "Empty DataFrame\n",
       "Columns: [ADR_NR, AUFTRAG_NR, DATUM, MEDIACODE, HERKUNFT, ABWICKLUNG, RECH_ART, PROJEKT, ART_NR, GROESSE, FARBE, MENGE, PREIS, MWST, MWST_KZ, INDI_KZ, RETOUREGRD, RETOUREART, EK, WARENGR, KOPF_STAT, POS_STAT, LISTNR, RABATT, ERFASSER, MANDNR, ZAEHL, ZAHLART]\n",
       "Index: []\n",
       "\n",
       "[0 rows x 28 columns]"
      ]
     },
     "execution_count": 25,
     "metadata": {},
     "output_type": "execute_result"
    }
   ],
   "source": [
    "new_df"
   ]
  },
  {
   "cell_type": "code",
   "execution_count": null,
   "id": "308780bd",
   "metadata": {},
   "outputs": [],
   "source": []
  }
 ],
 "metadata": {
  "kernelspec": {
   "display_name": ".venv",
   "language": "python",
   "name": "python3"
  },
  "language_info": {
   "codemirror_mode": {
    "name": "ipython",
    "version": 3
   },
   "file_extension": ".py",
   "mimetype": "text/x-python",
   "name": "python",
   "nbconvert_exporter": "python",
   "pygments_lexer": "ipython3",
   "version": "3.12.5"
  }
 },
 "nbformat": 4,
 "nbformat_minor": 5
}
